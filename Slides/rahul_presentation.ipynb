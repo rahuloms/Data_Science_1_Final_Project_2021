{
 "cells": [
  {
   "cell_type": "markdown",
   "metadata": {
    "slideshow": {
     "slide_type": "slide"
    }
   },
   "source": [
    "<center><h2> Growth of Financial Services Sector and Strength of Democractic Structures in Countries\n",
    "\n",
    "<br>\n",
    "<h4> Rahul Shrivastava\n",
    "<br>\n",
    "<br>\n",
    "Final Project – Proposal Presentation\n",
    "<br>\n",
    "<br>\n",
    "PPOL564 | Data Science 1: Foundations\n",
    "<br>\n",
    "</h4>\n",
    "    \n",
    "[Github Repository](https://github.com/rahuloms/Data_Science_1_Final_Project_2021)\n",
    "\n",
    "\n"
   ]
  },
  {
   "cell_type": "markdown",
   "metadata": {
    "slideshow": {
     "slide_type": "subslide"
    }
   },
   "source": [
    "\n",
    "<h2 align = \"left\"> Background 1: Problem Statement </h2>\n",
    "<br>\n",
    "<br>\n",
    "<li> Is there a relationship between the strengths and stability of democratic structures and institutions in a country and the growth rate of its economy?\n",
    "<br>\n",
    "<br>\n",
    "<li> Can we explore this relationship by using one sector of the economy - Financial Services and modelling/predicting the growth rate of this sector?\n",
    "<br>\n",
    "<br>\n",
    "<li> Would we expect democratic countries with free and fair elections and strong institutions to provide a better environment for capital flow and finance? \n",
    "<br>\n",
    "<br>\n",
    "    \n",
    "[New York Fed](https://www.newyorkfed.org/medialibrary/media/research/epr/00v06n4/0010kros.pdf)"
   ]
  },
  {
   "cell_type": "markdown",
   "metadata": {
    "slideshow": {
     "slide_type": "subslide"
    }
   },
   "source": [
    "<h2 align = \"left\" left-margin= \"140\"> Background 2: Data and Sources </h2>\n",
    "<img src=\"distribution-variables.png\" width=\"700\" align = \"center\">\n",
    "\n",
    "\n",
    "<h4> Data Sources Used: </h4>\n",
    "    <li> United Nations University - WIDER: Economic Transformation Database\n",
    "    <li> University of Gothenburg: Varieties of Democracy\n",
    "    <li> Both data sets are in time-series and capture variables across periods of time "
   ]
  },
  {
   "cell_type": "markdown",
   "metadata": {
    "slideshow": {
     "slide_type": "subslide"
    }
   },
   "source": [
    "<h3> Taking a Look at the Outcome Variable </h3>\n",
    "<img src=\"figure_1.png\" width=\"400\" align = \"center\">"
   ]
  },
  {
   "cell_type": "markdown",
   "metadata": {
    "slideshow": {
     "slide_type": "subslide"
    }
   },
   "source": [
    "<h2 align = \"left\" left-margin= \"140\"> My Approach: Variables and Specification </h2>\n",
    "<br>\n",
    "<br>\n",
    "<li> Analysis will be across a set of 50 countries which are common in both data sets.\n",
    "<li> Outcome variable <mark>finsecgrowth</mark> was derived from ETD data set using .pct_change() method.\n",
    "<li> Predictor variables are <mark>v2x_polyarchy</mark> (Electoral Democracy Index) <mark>v2x_freexp_altinf</mark> (Freedom of Expression and Alternative Sources of Information index) <mark>v2xel_frefair</mark> (Clean elections index) <mark>v2xcl_rol</mark> (Equality before the law and individual liberty index) <mark>v2x_jucon</mark> (Judicial constraints on the executive index) and <mark>v2xeg_eqprotec</mark> (Equal protection index).\n",
    "<br>\n",
    "<h3> Specification </h3>\n",
    "    \n",
    "$ FinSecGrowth_i = f(ElectoralDemocray_i, FreedomoExpression_i, CleanElections_i, EqualityofLaw_i, JudicialConstraints_i, EqualProtection_i)$"
   ]
  },
  {
   "cell_type": "markdown",
   "metadata": {
    "slideshow": {
     "slide_type": "subslide"
    }
   },
   "source": [
    "<h2 align = \"left\" left-margin= \"140\"> Methods and Tools </h2>\n",
    "<br>\n",
    "<br>\n",
    "<li> Data Wrangling: Numpy, Pandas, Missingno\n",
    "<li> Exploratory Data Analysis: Seaborn, Matplotlib\n",
    "<li> Modeling: Sklearn\n",
    "<br>\n",
    "<br>\n",
    "<li> Data wrangled, filtered, transformed, fixed and merged to form a final dataframe which will be used as the input data for the modeling.\n",
    "<li> Modeling is being done using Sklearn, KNN, RF, LM and DT.\n",
    "\n",
    "<h4> No Missingness </h4>\n",
    "    \n",
    "<img src=\"missingness.png\" width=\"400\" align = \"left\">"
   ]
  },
  {
   "cell_type": "markdown",
   "metadata": {
    "slideshow": {
     "slide_type": "subslide"
    }
   },
   "source": [
    "<h2 align = \"left\" left-margin= \"140\"> Preliminary Results 1: Predictors </h2>\n",
    "<h3> Relationship of Predictors with Outcome </h3>\n",
    "<img src=\"scatterplots-relationships.png\" width=\"600\" align = \"center\">\n",
    "\n",
    "<li> None of the predictors seem to show any apparent relationship with the outcome from the scatter plots.\n",
    "<li> Further analysis is required with LM and Blackbox models to check for accuracy of the models."
   ]
  },
  {
   "cell_type": "markdown",
   "metadata": {
    "slideshow": {
     "slide_type": "subslide"
    }
   },
   "source": [
    "<h2 align = \"left\" left-margin= \"140\"> Preliminary Results 2: Models </h2>\n",
    "<br>\n",
    "<br>\n",
    "<h3> Prediction to Truth </h3>\n",
    "<img src=\"pred-truth.png\" width=\"600\" align = \"center\">\n",
    "\n",
    "<li> From running a preliminary model of KNN with N=3 we have results which are inconclusive.\n",
    "<li> Further analysis is required with LM and other Blackbox models to check for accuracy, find and tune a better model."
   ]
  },
  {
   "cell_type": "markdown",
   "metadata": {
    "slideshow": {
     "slide_type": "subslide"
    }
   },
   "source": [
    "<h2 align = \"left\"> Lessons Learned </h2>\n",
    "<br>\n",
    "<br>\n",
    "<li> My predictors are not great.\n",
    "<li> Need to rethink the relationship of predictors with outcome (growth in financial services).\n",
    "<li> Both data sets are time series and spread over years, our model is static and may not be able to capture growth rates of the finsec overtime.\n",
    "<li> Time Series analysis may be more suitable in this case. For now, additional variables such as GDP, Population, Demographics, Literacy Rates, Stock Market Size etc. can be added as additional predictors.\n",
    "<br>\n",
    "<br>    \n",
    "<h3 align = \"center\"> Thank You! </h3>"
   ]
  }
 ],
 "metadata": {
  "celltoolbar": "Slideshow",
  "hide_input": true,
  "kernelspec": {
   "display_name": "Python 3",
   "language": "python",
   "name": "python3"
  },
  "language_info": {
   "codemirror_mode": {
    "name": "ipython",
    "version": 3
   },
   "file_extension": ".py",
   "mimetype": "text/x-python",
   "name": "python",
   "nbconvert_exporter": "python",
   "pygments_lexer": "ipython3",
   "version": "3.8.8"
  }
 },
 "nbformat": 4,
 "nbformat_minor": 2
}
